{
 "cells": [
  {
   "cell_type": "markdown",
   "id": "ecf399dd",
   "metadata": {},
   "source": [
    "# Visualização de Dados Airbnb - Nova York"
   ]
  },
  {
   "cell_type": "markdown",
   "id": "67d28197",
   "metadata": {},
   "source": [
    "## Obtenção de dados"
   ]
  },
  {
   "cell_type": "markdown",
   "id": "b4d40675",
   "metadata": {},
   "source": [
    "A Listagens dos dados da Airbnb na Cidade de Nova York foram obtidas a partir do site Tableau Public - Fonte: Inside Airbnb\n",
    "\n",
    "Para a análise os dados utilizados nesse projeto são uma versão resumida do banco de dados."
   ]
  },
  {
   "cell_type": "code",
   "execution_count": 64,
   "id": "59c608a2",
   "metadata": {
    "ExecuteTime": {
     "end_time": "2022-09-11T13:31:40.455298Z",
     "start_time": "2022-09-11T13:31:40.448306Z"
    }
   },
   "outputs": [],
   "source": [
    "# importar os pacotes necessarios\n",
    "import pandas as pd \n",
    "import matplotlib.pyplot as plt\n",
    "import seaborn as sns\n",
    "import requests\n",
    "from bs4 import BeautifulSoup\n",
    "import numpy as np"
   ]
  },
  {
   "cell_type": "code",
   "execution_count": 211,
   "id": "c91e5f13",
   "metadata": {
    "ExecuteTime": {
     "end_time": "2022-09-11T20:26:25.748617Z",
     "start_time": "2022-09-11T20:26:25.740621Z"
    }
   },
   "outputs": [],
   "source": [
    "import warnings\n",
    "warnings.filterwarnings(\"ignore\", category=DeprecationWarning)\n",
    "warnings.filterwarnings(\"ignore\", category=FutureWarning)"
   ]
  },
  {
   "cell_type": "code",
   "execution_count": 212,
   "id": "056da61e",
   "metadata": {
    "ExecuteTime": {
     "end_time": "2022-09-11T20:26:27.231385Z",
     "start_time": "2022-09-11T20:26:26.784663Z"
    }
   },
   "outputs": [
    {
     "data": {
      "text/plain": [
       "'C:\\\\Users\\\\USER\\\\Desktop\\\\Ironhack\\\\Semana 5\\\\Projeto obrigatório 2'"
      ]
     },
     "execution_count": 212,
     "metadata": {},
     "output_type": "execute_result"
    }
   ],
   "source": [
    "pwd"
   ]
  },
  {
   "cell_type": "code",
   "execution_count": 213,
   "id": "f7145c6d",
   "metadata": {
    "ExecuteTime": {
     "end_time": "2022-09-11T20:26:32.617135Z",
     "start_time": "2022-09-11T20:26:28.352720Z"
    }
   },
   "outputs": [
    {
     "name": "stderr",
     "output_type": "stream",
     "text": [
      "C:\\Users\\USER\\AppData\\Local\\Temp\\ipykernel_7672\\943316781.py:1: DtypeWarning: Columns (25) have mixed types. Specify dtype option on import or set low_memory=False.\n",
      "  df = pd.read_csv(r'data/Airbnb_Open_Data.csv')\n"
     ]
    }
   ],
   "source": [
    "df = pd.read_csv(r'data/Airbnb_Open_Data.csv')"
   ]
  },
  {
   "cell_type": "code",
   "execution_count": 263,
   "id": "b329555a",
   "metadata": {
    "ExecuteTime": {
     "end_time": "2022-09-12T12:05:38.737970Z",
     "start_time": "2022-09-12T12:05:36.088312Z"
    }
   },
   "outputs": [
    {
     "data": {
      "text/html": [
       "<div>\n",
       "<style scoped>\n",
       "    .dataframe tbody tr th:only-of-type {\n",
       "        vertical-align: middle;\n",
       "    }\n",
       "\n",
       "    .dataframe tbody tr th {\n",
       "        vertical-align: top;\n",
       "    }\n",
       "\n",
       "    .dataframe thead th {\n",
       "        text-align: right;\n",
       "    }\n",
       "</style>\n",
       "<table border=\"1\" class=\"dataframe\">\n",
       "  <thead>\n",
       "    <tr style=\"text-align: right;\">\n",
       "      <th></th>\n",
       "      <th>id</th>\n",
       "      <th>NAME</th>\n",
       "      <th>host id</th>\n",
       "      <th>host_identity_verified</th>\n",
       "      <th>host name</th>\n",
       "      <th>neighbourhood group</th>\n",
       "      <th>neighbourhood</th>\n",
       "      <th>lat</th>\n",
       "      <th>long</th>\n",
       "      <th>country</th>\n",
       "      <th>...</th>\n",
       "      <th>service fee</th>\n",
       "      <th>minimum nights</th>\n",
       "      <th>number of reviews</th>\n",
       "      <th>last review</th>\n",
       "      <th>reviews per month</th>\n",
       "      <th>review rate number</th>\n",
       "      <th>calculated host listings count</th>\n",
       "      <th>availability 365</th>\n",
       "      <th>house_rules</th>\n",
       "      <th>license</th>\n",
       "    </tr>\n",
       "  </thead>\n",
       "  <tbody>\n",
       "    <tr>\n",
       "      <th>0</th>\n",
       "      <td>1001254</td>\n",
       "      <td>Clean &amp; quiet apt home by the park</td>\n",
       "      <td>80014485718</td>\n",
       "      <td>unconfirmed</td>\n",
       "      <td>Madaline</td>\n",
       "      <td>Brooklyn</td>\n",
       "      <td>Kensington</td>\n",
       "      <td>40.64749</td>\n",
       "      <td>-73.97237</td>\n",
       "      <td>United States</td>\n",
       "      <td>...</td>\n",
       "      <td>$193</td>\n",
       "      <td>10.0</td>\n",
       "      <td>9.0</td>\n",
       "      <td>10/19/2021</td>\n",
       "      <td>0.21</td>\n",
       "      <td>4.0</td>\n",
       "      <td>6.0</td>\n",
       "      <td>286.0</td>\n",
       "      <td>Clean up and treat the home the way you'd like...</td>\n",
       "      <td>NaN</td>\n",
       "    </tr>\n",
       "    <tr>\n",
       "      <th>1</th>\n",
       "      <td>1002102</td>\n",
       "      <td>Skylit Midtown Castle</td>\n",
       "      <td>52335172823</td>\n",
       "      <td>verified</td>\n",
       "      <td>Jenna</td>\n",
       "      <td>Manhattan</td>\n",
       "      <td>Midtown</td>\n",
       "      <td>40.75362</td>\n",
       "      <td>-73.98377</td>\n",
       "      <td>United States</td>\n",
       "      <td>...</td>\n",
       "      <td>$28</td>\n",
       "      <td>30.0</td>\n",
       "      <td>45.0</td>\n",
       "      <td>5/21/2022</td>\n",
       "      <td>0.38</td>\n",
       "      <td>4.0</td>\n",
       "      <td>2.0</td>\n",
       "      <td>228.0</td>\n",
       "      <td>Pet friendly but please confirm with me if the...</td>\n",
       "      <td>NaN</td>\n",
       "    </tr>\n",
       "    <tr>\n",
       "      <th>2</th>\n",
       "      <td>1002403</td>\n",
       "      <td>THE VILLAGE OF HARLEM....NEW YORK !</td>\n",
       "      <td>78829239556</td>\n",
       "      <td>NaN</td>\n",
       "      <td>Elise</td>\n",
       "      <td>Manhattan</td>\n",
       "      <td>Harlem</td>\n",
       "      <td>40.80902</td>\n",
       "      <td>-73.94190</td>\n",
       "      <td>United States</td>\n",
       "      <td>...</td>\n",
       "      <td>$124</td>\n",
       "      <td>3.0</td>\n",
       "      <td>0.0</td>\n",
       "      <td>NaN</td>\n",
       "      <td>NaN</td>\n",
       "      <td>5.0</td>\n",
       "      <td>1.0</td>\n",
       "      <td>352.0</td>\n",
       "      <td>I encourage you to use my kitchen, cooking and...</td>\n",
       "      <td>NaN</td>\n",
       "    </tr>\n",
       "    <tr>\n",
       "      <th>3</th>\n",
       "      <td>1002755</td>\n",
       "      <td>NaN</td>\n",
       "      <td>85098326012</td>\n",
       "      <td>unconfirmed</td>\n",
       "      <td>Garry</td>\n",
       "      <td>Brooklyn</td>\n",
       "      <td>Clinton Hill</td>\n",
       "      <td>40.68514</td>\n",
       "      <td>-73.95976</td>\n",
       "      <td>United States</td>\n",
       "      <td>...</td>\n",
       "      <td>$74</td>\n",
       "      <td>30.0</td>\n",
       "      <td>270.0</td>\n",
       "      <td>7/5/2019</td>\n",
       "      <td>4.64</td>\n",
       "      <td>4.0</td>\n",
       "      <td>1.0</td>\n",
       "      <td>322.0</td>\n",
       "      <td>NaN</td>\n",
       "      <td>NaN</td>\n",
       "    </tr>\n",
       "    <tr>\n",
       "      <th>4</th>\n",
       "      <td>1003689</td>\n",
       "      <td>Entire Apt: Spacious Studio/Loft by central park</td>\n",
       "      <td>92037596077</td>\n",
       "      <td>verified</td>\n",
       "      <td>Lyndon</td>\n",
       "      <td>Manhattan</td>\n",
       "      <td>East Harlem</td>\n",
       "      <td>40.79851</td>\n",
       "      <td>-73.94399</td>\n",
       "      <td>United States</td>\n",
       "      <td>...</td>\n",
       "      <td>$41</td>\n",
       "      <td>10.0</td>\n",
       "      <td>9.0</td>\n",
       "      <td>11/19/2018</td>\n",
       "      <td>0.10</td>\n",
       "      <td>3.0</td>\n",
       "      <td>1.0</td>\n",
       "      <td>289.0</td>\n",
       "      <td>Please no smoking in the house, porch or on th...</td>\n",
       "      <td>NaN</td>\n",
       "    </tr>\n",
       "  </tbody>\n",
       "</table>\n",
       "<p>5 rows × 26 columns</p>\n",
       "</div>"
      ],
      "text/plain": [
       "        id                                              NAME      host id  \\\n",
       "0  1001254                Clean & quiet apt home by the park  80014485718   \n",
       "1  1002102                             Skylit Midtown Castle  52335172823   \n",
       "2  1002403               THE VILLAGE OF HARLEM....NEW YORK !  78829239556   \n",
       "3  1002755                                               NaN  85098326012   \n",
       "4  1003689  Entire Apt: Spacious Studio/Loft by central park  92037596077   \n",
       "\n",
       "  host_identity_verified host name neighbourhood group neighbourhood  \\\n",
       "0            unconfirmed  Madaline            Brooklyn    Kensington   \n",
       "1               verified     Jenna           Manhattan       Midtown   \n",
       "2                    NaN     Elise           Manhattan        Harlem   \n",
       "3            unconfirmed     Garry            Brooklyn  Clinton Hill   \n",
       "4               verified    Lyndon           Manhattan   East Harlem   \n",
       "\n",
       "        lat      long        country  ... service fee minimum nights  \\\n",
       "0  40.64749 -73.97237  United States  ...       $193            10.0   \n",
       "1  40.75362 -73.98377  United States  ...        $28            30.0   \n",
       "2  40.80902 -73.94190  United States  ...       $124             3.0   \n",
       "3  40.68514 -73.95976  United States  ...        $74            30.0   \n",
       "4  40.79851 -73.94399  United States  ...        $41            10.0   \n",
       "\n",
       "  number of reviews last review  reviews per month review rate number  \\\n",
       "0               9.0  10/19/2021               0.21                4.0   \n",
       "1              45.0   5/21/2022               0.38                4.0   \n",
       "2               0.0         NaN                NaN                5.0   \n",
       "3             270.0    7/5/2019               4.64                4.0   \n",
       "4               9.0  11/19/2018               0.10                3.0   \n",
       "\n",
       "  calculated host listings count  availability 365  \\\n",
       "0                            6.0             286.0   \n",
       "1                            2.0             228.0   \n",
       "2                            1.0             352.0   \n",
       "3                            1.0             322.0   \n",
       "4                            1.0             289.0   \n",
       "\n",
       "                                         house_rules license  \n",
       "0  Clean up and treat the home the way you'd like...     NaN  \n",
       "1  Pet friendly but please confirm with me if the...     NaN  \n",
       "2  I encourage you to use my kitchen, cooking and...     NaN  \n",
       "3                                                NaN     NaN  \n",
       "4  Please no smoking in the house, porch or on th...     NaN  \n",
       "\n",
       "[5 rows x 26 columns]"
      ]
     },
     "execution_count": 263,
     "metadata": {},
     "output_type": "execute_result"
    }
   ],
   "source": [
    "df.head(5)"
   ]
  },
  {
   "cell_type": "code",
   "execution_count": 215,
   "id": "e284a447",
   "metadata": {
    "ExecuteTime": {
     "end_time": "2022-09-11T20:26:37.023205Z",
     "start_time": "2022-09-11T20:26:36.980232Z"
    }
   },
   "outputs": [
    {
     "data": {
      "text/plain": [
       "id                                  int64\n",
       "NAME                               object\n",
       "host id                             int64\n",
       "host_identity_verified             object\n",
       "host name                          object\n",
       "neighbourhood group                object\n",
       "neighbourhood                      object\n",
       "lat                               float64\n",
       "long                              float64\n",
       "country                            object\n",
       "country code                       object\n",
       "instant_bookable                   object\n",
       "cancellation_policy                object\n",
       "room type                          object\n",
       "Construction year                 float64\n",
       "price                              object\n",
       "service fee                        object\n",
       "minimum nights                    float64\n",
       "number of reviews                 float64\n",
       "last review                        object\n",
       "reviews per month                 float64\n",
       "review rate number                float64\n",
       "calculated host listings count    float64\n",
       "availability 365                  float64\n",
       "house_rules                        object\n",
       "license                            object\n",
       "dtype: object"
      ]
     },
     "metadata": {},
     "output_type": "display_data"
    }
   ],
   "source": [
    "display(df.dtypes)"
   ]
  },
  {
   "cell_type": "code",
   "execution_count": 216,
   "id": "870f9f30",
   "metadata": {
    "ExecuteTime": {
     "end_time": "2022-09-11T20:26:39.365686Z",
     "start_time": "2022-09-11T20:26:39.313718Z"
    }
   },
   "outputs": [
    {
     "data": {
      "text/html": [
       "<div>\n",
       "<style scoped>\n",
       "    .dataframe tbody tr th:only-of-type {\n",
       "        vertical-align: middle;\n",
       "    }\n",
       "\n",
       "    .dataframe tbody tr th {\n",
       "        vertical-align: top;\n",
       "    }\n",
       "\n",
       "    .dataframe thead th {\n",
       "        text-align: right;\n",
       "    }\n",
       "</style>\n",
       "<table border=\"1\" class=\"dataframe\">\n",
       "  <thead>\n",
       "    <tr style=\"text-align: right;\">\n",
       "      <th></th>\n",
       "      <th>id</th>\n",
       "      <th>NAME</th>\n",
       "      <th>host id</th>\n",
       "      <th>host_identity_verified</th>\n",
       "      <th>host name</th>\n",
       "      <th>neighbourhood group</th>\n",
       "      <th>neighbourhood</th>\n",
       "      <th>lat</th>\n",
       "      <th>long</th>\n",
       "      <th>country</th>\n",
       "      <th>...</th>\n",
       "      <th>service fee</th>\n",
       "      <th>minimum nights</th>\n",
       "      <th>number of reviews</th>\n",
       "      <th>last review</th>\n",
       "      <th>reviews per month</th>\n",
       "      <th>review rate number</th>\n",
       "      <th>calculated host listings count</th>\n",
       "      <th>availability 365</th>\n",
       "      <th>house_rules</th>\n",
       "      <th>license</th>\n",
       "    </tr>\n",
       "  </thead>\n",
       "  <tbody>\n",
       "    <tr>\n",
       "      <th>0</th>\n",
       "      <td>1001254</td>\n",
       "      <td>Clean &amp; quiet apt home by the park</td>\n",
       "      <td>80014485718</td>\n",
       "      <td>unconfirmed</td>\n",
       "      <td>Madaline</td>\n",
       "      <td>Brooklyn</td>\n",
       "      <td>Kensington</td>\n",
       "      <td>40.64749</td>\n",
       "      <td>-73.97237</td>\n",
       "      <td>United States</td>\n",
       "      <td>...</td>\n",
       "      <td>$193</td>\n",
       "      <td>10.0</td>\n",
       "      <td>9.0</td>\n",
       "      <td>10/19/2021</td>\n",
       "      <td>0.21</td>\n",
       "      <td>4.0</td>\n",
       "      <td>6.0</td>\n",
       "      <td>286.0</td>\n",
       "      <td>Clean up and treat the home the way you'd like...</td>\n",
       "      <td>NaN</td>\n",
       "    </tr>\n",
       "    <tr>\n",
       "      <th>1</th>\n",
       "      <td>1002102</td>\n",
       "      <td>Skylit Midtown Castle</td>\n",
       "      <td>52335172823</td>\n",
       "      <td>verified</td>\n",
       "      <td>Jenna</td>\n",
       "      <td>Manhattan</td>\n",
       "      <td>Midtown</td>\n",
       "      <td>40.75362</td>\n",
       "      <td>-73.98377</td>\n",
       "      <td>United States</td>\n",
       "      <td>...</td>\n",
       "      <td>$28</td>\n",
       "      <td>30.0</td>\n",
       "      <td>45.0</td>\n",
       "      <td>5/21/2022</td>\n",
       "      <td>0.38</td>\n",
       "      <td>4.0</td>\n",
       "      <td>2.0</td>\n",
       "      <td>228.0</td>\n",
       "      <td>Pet friendly but please confirm with me if the...</td>\n",
       "      <td>NaN</td>\n",
       "    </tr>\n",
       "    <tr>\n",
       "      <th>2</th>\n",
       "      <td>1002403</td>\n",
       "      <td>THE VILLAGE OF HARLEM....NEW YORK !</td>\n",
       "      <td>78829239556</td>\n",
       "      <td>NaN</td>\n",
       "      <td>Elise</td>\n",
       "      <td>Manhattan</td>\n",
       "      <td>Harlem</td>\n",
       "      <td>40.80902</td>\n",
       "      <td>-73.94190</td>\n",
       "      <td>United States</td>\n",
       "      <td>...</td>\n",
       "      <td>$124</td>\n",
       "      <td>3.0</td>\n",
       "      <td>0.0</td>\n",
       "      <td>NaN</td>\n",
       "      <td>NaN</td>\n",
       "      <td>5.0</td>\n",
       "      <td>1.0</td>\n",
       "      <td>352.0</td>\n",
       "      <td>I encourage you to use my kitchen, cooking and...</td>\n",
       "      <td>NaN</td>\n",
       "    </tr>\n",
       "    <tr>\n",
       "      <th>3</th>\n",
       "      <td>1002755</td>\n",
       "      <td>NaN</td>\n",
       "      <td>85098326012</td>\n",
       "      <td>unconfirmed</td>\n",
       "      <td>Garry</td>\n",
       "      <td>Brooklyn</td>\n",
       "      <td>Clinton Hill</td>\n",
       "      <td>40.68514</td>\n",
       "      <td>-73.95976</td>\n",
       "      <td>United States</td>\n",
       "      <td>...</td>\n",
       "      <td>$74</td>\n",
       "      <td>30.0</td>\n",
       "      <td>270.0</td>\n",
       "      <td>7/5/2019</td>\n",
       "      <td>4.64</td>\n",
       "      <td>4.0</td>\n",
       "      <td>1.0</td>\n",
       "      <td>322.0</td>\n",
       "      <td>NaN</td>\n",
       "      <td>NaN</td>\n",
       "    </tr>\n",
       "    <tr>\n",
       "      <th>4</th>\n",
       "      <td>1003689</td>\n",
       "      <td>Entire Apt: Spacious Studio/Loft by central park</td>\n",
       "      <td>92037596077</td>\n",
       "      <td>verified</td>\n",
       "      <td>Lyndon</td>\n",
       "      <td>Manhattan</td>\n",
       "      <td>East Harlem</td>\n",
       "      <td>40.79851</td>\n",
       "      <td>-73.94399</td>\n",
       "      <td>United States</td>\n",
       "      <td>...</td>\n",
       "      <td>$41</td>\n",
       "      <td>10.0</td>\n",
       "      <td>9.0</td>\n",
       "      <td>11/19/2018</td>\n",
       "      <td>0.10</td>\n",
       "      <td>3.0</td>\n",
       "      <td>1.0</td>\n",
       "      <td>289.0</td>\n",
       "      <td>Please no smoking in the house, porch or on th...</td>\n",
       "      <td>NaN</td>\n",
       "    </tr>\n",
       "  </tbody>\n",
       "</table>\n",
       "<p>5 rows × 26 columns</p>\n",
       "</div>"
      ],
      "text/plain": [
       "        id                                              NAME      host id  \\\n",
       "0  1001254                Clean & quiet apt home by the park  80014485718   \n",
       "1  1002102                             Skylit Midtown Castle  52335172823   \n",
       "2  1002403               THE VILLAGE OF HARLEM....NEW YORK !  78829239556   \n",
       "3  1002755                                               NaN  85098326012   \n",
       "4  1003689  Entire Apt: Spacious Studio/Loft by central park  92037596077   \n",
       "\n",
       "  host_identity_verified host name neighbourhood group neighbourhood  \\\n",
       "0            unconfirmed  Madaline            Brooklyn    Kensington   \n",
       "1               verified     Jenna           Manhattan       Midtown   \n",
       "2                    NaN     Elise           Manhattan        Harlem   \n",
       "3            unconfirmed     Garry            Brooklyn  Clinton Hill   \n",
       "4               verified    Lyndon           Manhattan   East Harlem   \n",
       "\n",
       "        lat      long        country  ... service fee minimum nights  \\\n",
       "0  40.64749 -73.97237  United States  ...       $193            10.0   \n",
       "1  40.75362 -73.98377  United States  ...        $28            30.0   \n",
       "2  40.80902 -73.94190  United States  ...       $124             3.0   \n",
       "3  40.68514 -73.95976  United States  ...        $74            30.0   \n",
       "4  40.79851 -73.94399  United States  ...        $41            10.0   \n",
       "\n",
       "  number of reviews last review  reviews per month review rate number  \\\n",
       "0               9.0  10/19/2021               0.21                4.0   \n",
       "1              45.0   5/21/2022               0.38                4.0   \n",
       "2               0.0         NaN                NaN                5.0   \n",
       "3             270.0    7/5/2019               4.64                4.0   \n",
       "4               9.0  11/19/2018               0.10                3.0   \n",
       "\n",
       "  calculated host listings count  availability 365  \\\n",
       "0                            6.0             286.0   \n",
       "1                            2.0             228.0   \n",
       "2                            1.0             352.0   \n",
       "3                            1.0             322.0   \n",
       "4                            1.0             289.0   \n",
       "\n",
       "                                         house_rules license  \n",
       "0  Clean up and treat the home the way you'd like...     NaN  \n",
       "1  Pet friendly but please confirm with me if the...     NaN  \n",
       "2  I encourage you to use my kitchen, cooking and...     NaN  \n",
       "3                                                NaN     NaN  \n",
       "4  Please no smoking in the house, porch or on th...     NaN  \n",
       "\n",
       "[5 rows x 26 columns]"
      ]
     },
     "execution_count": 216,
     "metadata": {},
     "output_type": "execute_result"
    }
   ],
   "source": [
    "df.head(5)"
   ]
  },
  {
   "cell_type": "markdown",
   "id": "5ff08fce",
   "metadata": {},
   "source": [
    "## Análise dos Dados"
   ]
  },
  {
   "cell_type": "markdown",
   "id": "5b8e2697",
   "metadata": {
    "ExecuteTime": {
     "end_time": "2022-09-11T12:58:43.116062Z",
     "start_time": "2022-09-11T12:58:43.107066Z"
    }
   },
   "source": [
    "O objetivo desta etapa é apresentar de maneira sucinta os dados estruturados, facilitando a visualização das informações. "
   ]
  },
  {
   "cell_type": "markdown",
   "id": "867c72f0",
   "metadata": {},
   "source": [
    "### Dicionário"
   ]
  },
  {
   "cell_type": "code",
   "execution_count": null,
   "id": "cd50d0a7",
   "metadata": {
    "ExecuteTime": {
     "end_time": "2022-09-11T12:42:08.960996Z",
     "start_time": "2022-09-11T12:42:08.913026Z"
    }
   },
   "outputs": [],
   "source": [
    "id - número de identificação do imóvel\n",
    "name - Título do anúncio da propriedade\n",
    "host_id - número de identificação do proprietário\n",
    "host_name - nome do anfitrião\n",
    "neighbourhood group - nome do bairro\n",
    "neighbourhood - nome da zona de localização\n",
    "latitude - coordenada de latitude da propriedade\n",
    "longitude - coordenada de longitude da propriedade\n",
    "country - código do País\n",
    "instant_bookable - reserva da propriedade\n",
    "cancellation policy - política de cancelamento\n",
    "room_type - tipo de acomodação oferecida\n",
    "construction year - ano de contrução da propriedade\n",
    "price - valor do aluguel\n",
    "service fee - taxa de serviço\n",
    "minimum_nights - menor quantidade de noites para alugar\n",
    "number of reviews - número de reviews\n",
    "last_review - data do último review\n",
    "reviews per month - quantidade de reviews em um mês\n",
    "review rate number - pontuação\n",
    "calculated host listings count - quantidade de imóveis do mesmo anfitrião\n",
    "availability 365 - número de dias de disponibilidade dentro de 365 dias"
   ]
  },
  {
   "cell_type": "markdown",
   "id": "a62d7bc9",
   "metadata": {
    "ExecuteTime": {
     "end_time": "2022-09-11T13:08:26.364444Z",
     "start_time": "2022-09-11T13:08:26.356448Z"
    }
   },
   "source": [
    "### Analisando algumas colunas"
   ]
  },
  {
   "cell_type": "code",
   "execution_count": 217,
   "id": "7c6db13c",
   "metadata": {
    "ExecuteTime": {
     "end_time": "2022-09-11T20:26:43.664326Z",
     "start_time": "2022-09-11T20:26:43.165626Z"
    }
   },
   "outputs": [
    {
     "data": {
      "text/html": [
       "<div>\n",
       "<style scoped>\n",
       "    .dataframe tbody tr th:only-of-type {\n",
       "        vertical-align: middle;\n",
       "    }\n",
       "\n",
       "    .dataframe tbody tr th {\n",
       "        vertical-align: top;\n",
       "    }\n",
       "\n",
       "    .dataframe thead th {\n",
       "        text-align: right;\n",
       "    }\n",
       "</style>\n",
       "<table border=\"1\" class=\"dataframe\">\n",
       "  <thead>\n",
       "    <tr style=\"text-align: right;\">\n",
       "      <th></th>\n",
       "      <th>minimum nights</th>\n",
       "      <th>review rate number</th>\n",
       "      <th>availability 365</th>\n",
       "      <th>calculated host listings count</th>\n",
       "    </tr>\n",
       "  </thead>\n",
       "  <tbody>\n",
       "    <tr>\n",
       "      <th>count</th>\n",
       "      <td>102190.000000</td>\n",
       "      <td>102273.000000</td>\n",
       "      <td>102151.000000</td>\n",
       "      <td>102280.000000</td>\n",
       "    </tr>\n",
       "    <tr>\n",
       "      <th>mean</th>\n",
       "      <td>8.135845</td>\n",
       "      <td>3.279106</td>\n",
       "      <td>141.133254</td>\n",
       "      <td>7.936605</td>\n",
       "    </tr>\n",
       "    <tr>\n",
       "      <th>std</th>\n",
       "      <td>30.553781</td>\n",
       "      <td>1.284657</td>\n",
       "      <td>135.435024</td>\n",
       "      <td>32.218780</td>\n",
       "    </tr>\n",
       "    <tr>\n",
       "      <th>min</th>\n",
       "      <td>-1223.000000</td>\n",
       "      <td>1.000000</td>\n",
       "      <td>-10.000000</td>\n",
       "      <td>1.000000</td>\n",
       "    </tr>\n",
       "    <tr>\n",
       "      <th>25%</th>\n",
       "      <td>2.000000</td>\n",
       "      <td>2.000000</td>\n",
       "      <td>3.000000</td>\n",
       "      <td>1.000000</td>\n",
       "    </tr>\n",
       "    <tr>\n",
       "      <th>50%</th>\n",
       "      <td>3.000000</td>\n",
       "      <td>3.000000</td>\n",
       "      <td>96.000000</td>\n",
       "      <td>1.000000</td>\n",
       "    </tr>\n",
       "    <tr>\n",
       "      <th>75%</th>\n",
       "      <td>5.000000</td>\n",
       "      <td>4.000000</td>\n",
       "      <td>269.000000</td>\n",
       "      <td>2.000000</td>\n",
       "    </tr>\n",
       "    <tr>\n",
       "      <th>max</th>\n",
       "      <td>5645.000000</td>\n",
       "      <td>5.000000</td>\n",
       "      <td>3677.000000</td>\n",
       "      <td>332.000000</td>\n",
       "    </tr>\n",
       "  </tbody>\n",
       "</table>\n",
       "</div>"
      ],
      "text/plain": [
       "       minimum nights  review rate number  availability 365  \\\n",
       "count   102190.000000       102273.000000     102151.000000   \n",
       "mean         8.135845            3.279106        141.133254   \n",
       "std         30.553781            1.284657        135.435024   \n",
       "min      -1223.000000            1.000000        -10.000000   \n",
       "25%          2.000000            2.000000          3.000000   \n",
       "50%          3.000000            3.000000         96.000000   \n",
       "75%          5.000000            4.000000        269.000000   \n",
       "max       5645.000000            5.000000       3677.000000   \n",
       "\n",
       "       calculated host listings count  \n",
       "count                   102280.000000  \n",
       "mean                         7.936605  \n",
       "std                         32.218780  \n",
       "min                          1.000000  \n",
       "25%                          1.000000  \n",
       "50%                          1.000000  \n",
       "75%                          2.000000  \n",
       "max                        332.000000  "
      ]
     },
     "execution_count": 217,
     "metadata": {},
     "output_type": "execute_result"
    }
   ],
   "source": [
    "df[['price','country','minimum nights', 'review rate number', 'availability 365', 'calculated host listings count']].describe()"
   ]
  },
  {
   "cell_type": "markdown",
   "id": "3b34a160",
   "metadata": {},
   "source": [
    "O valor máximo para os dados da coluna 'minimum_nights', bem como a coluna 'availability 365' que indica que o número de dias de disponibilidade está acima 365 dias por ano. Isso pode indicar uma vies de algumas dados que pretendemos fazer. "
   ]
  },
  {
   "cell_type": "markdown",
   "id": "3366c0d8",
   "metadata": {},
   "source": [
    "### Plotando informações Disponibilidade de quartos no ano e Menor qtde de dias para locação"
   ]
  },
  {
   "cell_type": "code",
   "execution_count": 218,
   "id": "84dd4afc",
   "metadata": {
    "ExecuteTime": {
     "end_time": "2022-09-11T20:26:46.279257Z",
     "start_time": "2022-09-11T20:26:46.274260Z"
    }
   },
   "outputs": [],
   "source": [
    "x = df['availability 365']\n",
    "y = df['minimum nights']"
   ]
  },
  {
   "cell_type": "code",
   "execution_count": 219,
   "id": "40346b01",
   "metadata": {
    "ExecuteTime": {
     "end_time": "2022-09-11T20:26:48.063005Z",
     "start_time": "2022-09-11T20:26:47.329450Z"
    }
   },
   "outputs": [
    {
     "data": {
      "text/plain": [
       "Text(0, 0.5, 'Menor qtde de dias para locação')"
      ]
     },
     "execution_count": 219,
     "metadata": {},
     "output_type": "execute_result"
    },
    {
     "data": {
      "image/png": "[encoded data removed]",
      "text/plain": [
       "<Figure size 432x288 with 1 Axes>"
      ]
     },
     "metadata": {
      "needs_background": "light"
     },
     "output_type": "display_data"
    }
   ],
   "source": [
    "plt.scatter(x,y)\n",
    "plt.xlabel('Disponibilidade')\n",
    "plt.ylabel('Menor qtde de dias para locação')"
   ]
  },
  {
   "cell_type": "code",
   "execution_count": 262,
   "id": "4b61dba3",
   "metadata": {
    "ExecuteTime": {
     "end_time": "2022-09-11T21:34:40.129493Z",
     "start_time": "2022-09-11T21:34:40.119500Z"
    }
   },
   "outputs": [
    {
     "data": {
      "text/plain": [
       "8.13584499461787"
      ]
     },
     "execution_count": 262,
     "metadata": {},
     "output_type": "execute_result"
    }
   ],
   "source": [
    "df['minimum nights'].mean()"
   ]
  },
  {
   "cell_type": "markdown",
   "id": "6a08181f",
   "metadata": {},
   "source": [
    "### Analisando preços"
   ]
  },
  {
   "cell_type": "code",
   "execution_count": 256,
   "id": "c06d9688",
   "metadata": {
    "ExecuteTime": {
     "end_time": "2022-09-11T21:27:10.622860Z",
     "start_time": "2022-09-11T21:27:10.547905Z"
    }
   },
   "outputs": [
    {
     "data": {
      "text/plain": [
       "count     102352\n",
       "unique      1151\n",
       "top        $206 \n",
       "freq         137\n",
       "Name: price, dtype: object"
      ]
     },
     "execution_count": 256,
     "metadata": {},
     "output_type": "execute_result"
    }
   ],
   "source": [
    "df['price'].describe()"
   ]
  },
  {
   "cell_type": "code",
   "execution_count": 257,
   "id": "3f367c00",
   "metadata": {
    "ExecuteTime": {
     "end_time": "2022-09-11T21:27:12.389981Z",
     "start_time": "2022-09-11T21:27:12.323017Z"
    }
   },
   "outputs": [
    {
     "data": {
      "text/html": [
       "<div>\n",
       "<style scoped>\n",
       "    .dataframe tbody tr th:only-of-type {\n",
       "        vertical-align: middle;\n",
       "    }\n",
       "\n",
       "    .dataframe tbody tr th {\n",
       "        vertical-align: top;\n",
       "    }\n",
       "\n",
       "    .dataframe thead th {\n",
       "        text-align: right;\n",
       "    }\n",
       "</style>\n",
       "<table border=\"1\" class=\"dataframe\">\n",
       "  <thead>\n",
       "    <tr style=\"text-align: right;\">\n",
       "      <th></th>\n",
       "      <th>price</th>\n",
       "      <th>country</th>\n",
       "    </tr>\n",
       "  </thead>\n",
       "  <tbody>\n",
       "    <tr>\n",
       "      <th>count</th>\n",
       "      <td>102352</td>\n",
       "      <td>102067</td>\n",
       "    </tr>\n",
       "    <tr>\n",
       "      <th>unique</th>\n",
       "      <td>1151</td>\n",
       "      <td>1</td>\n",
       "    </tr>\n",
       "    <tr>\n",
       "      <th>top</th>\n",
       "      <td>$206</td>\n",
       "      <td>United States</td>\n",
       "    </tr>\n",
       "    <tr>\n",
       "      <th>freq</th>\n",
       "      <td>137</td>\n",
       "      <td>102067</td>\n",
       "    </tr>\n",
       "  </tbody>\n",
       "</table>\n",
       "</div>"
      ],
      "text/plain": [
       "         price        country\n",
       "count   102352         102067\n",
       "unique    1151              1\n",
       "top      $206   United States\n",
       "freq       137         102067"
      ]
     },
     "execution_count": 257,
     "metadata": {},
     "output_type": "execute_result"
    }
   ],
   "source": [
    "df[['price','country']].describe()"
   ]
  },
  {
   "cell_type": "markdown",
   "id": "54ea70c3",
   "metadata": {},
   "source": [
    "### Analisando tipo de imóvel"
   ]
  },
  {
   "cell_type": "code",
   "execution_count": 221,
   "id": "303de5dd",
   "metadata": {
    "ExecuteTime": {
     "end_time": "2022-09-11T20:26:55.025609Z",
     "start_time": "2022-09-11T20:26:54.985633Z"
    }
   },
   "outputs": [
    {
     "data": {
      "text/plain": [
       "count              102599\n",
       "unique                  4\n",
       "top       Entire home/apt\n",
       "freq                53701\n",
       "Name: room type, dtype: object"
      ]
     },
     "execution_count": 221,
     "metadata": {},
     "output_type": "execute_result"
    }
   ],
   "source": [
    "df['room type'].describe()"
   ]
  },
  {
   "cell_type": "code",
   "execution_count": 222,
   "id": "553b920c",
   "metadata": {
    "ExecuteTime": {
     "end_time": "2022-09-11T20:26:56.124575Z",
     "start_time": "2022-09-11T20:26:56.072609Z"
    }
   },
   "outputs": [
    {
     "data": {
      "text/plain": [
       "array(['Private room', 'Entire home/apt', 'Shared room', 'Hotel room'],\n",
       "      dtype=object)"
      ]
     },
     "execution_count": 222,
     "metadata": {},
     "output_type": "execute_result"
    }
   ],
   "source": [
    "df['room type'].unique()"
   ]
  },
  {
   "cell_type": "markdown",
   "id": "818bd1f1",
   "metadata": {},
   "source": [
    "A porcentagem de cada tipo de imóvel é:"
   ]
  },
  {
   "cell_type": "code",
   "execution_count": 223,
   "id": "d27b5389",
   "metadata": {
    "ExecuteTime": {
     "end_time": "2022-09-11T20:27:00.480650Z",
     "start_time": "2022-09-11T20:27:00.448672Z"
    }
   },
   "outputs": [
    {
     "data": {
      "text/plain": [
       "Entire home/apt    0.523407\n",
       "Private room       0.453767\n",
       "Shared room        0.021696\n",
       "Hotel room         0.001131\n",
       "Name: room type, dtype: float64"
      ]
     },
     "execution_count": 223,
     "metadata": {},
     "output_type": "execute_result"
    }
   ],
   "source": [
    "df['room type'].value_counts() / df.shape[0]"
   ]
  },
  {
   "cell_type": "markdown",
   "id": "c331c151",
   "metadata": {
    "ExecuteTime": {
     "end_time": "2022-09-11T20:27:03.233430Z",
     "start_time": "2022-09-11T20:27:03.225435Z"
    }
   },
   "source": [
    "Os quartos privados e casa/apto inteiros representam cerca de 97% dos imóveis anunciados"
   ]
  },
  {
   "cell_type": "code",
   "execution_count": 152,
   "id": "11c39e6c",
   "metadata": {
    "ExecuteTime": {
     "end_time": "2022-09-11T15:33:38.708399Z",
     "start_time": "2022-09-11T15:33:38.652434Z"
    }
   },
   "outputs": [],
   "source": [
    "room_type = df[\"room type\"].value_counts()"
   ]
  },
  {
   "cell_type": "code",
   "execution_count": 153,
   "id": "e968352a",
   "metadata": {
    "ExecuteTime": {
     "end_time": "2022-09-11T15:33:48.955601Z",
     "start_time": "2022-09-11T15:33:48.946606Z"
    }
   },
   "outputs": [
    {
     "data": {
      "text/plain": [
       "Entire home/apt    53701\n",
       "Private room       46556\n",
       "Shared room         2226\n",
       "Hotel room           116\n",
       "Name: room type, dtype: int64"
      ]
     },
     "execution_count": 153,
     "metadata": {},
     "output_type": "execute_result"
    }
   ],
   "source": [
    "room_type"
   ]
  },
  {
   "cell_type": "code",
   "execution_count": 226,
   "id": "9fe9ff69",
   "metadata": {
    "ExecuteTime": {
     "end_time": "2022-09-11T20:39:58.258544Z",
     "start_time": "2022-09-11T20:39:57.202644Z"
    }
   },
   "outputs": [
    {
     "data": {
      "image/png": "[encoded data removed]",
      "text/plain": [
       "<Figure size 432x288 with 1 Axes>"
      ]
     },
     "metadata": {
      "needs_background": "light"
     },
     "output_type": "display_data"
    }
   ],
   "source": [
    "sns.countplot(data=df,x=\"room type\")\n",
    "plt.show()"
   ]
  },
  {
   "cell_type": "markdown",
   "id": "fb5a468b",
   "metadata": {},
   "source": [
    "## Analisando classificação"
   ]
  },
  {
   "cell_type": "code",
   "execution_count": 248,
   "id": "5f9e57b6",
   "metadata": {
    "ExecuteTime": {
     "end_time": "2022-09-11T21:19:36.231844Z",
     "start_time": "2022-09-11T21:19:36.206855Z"
    }
   },
   "outputs": [
    {
     "data": {
      "text/plain": [
       "count    102273.000000\n",
       "mean          3.279106\n",
       "std           1.284657\n",
       "min           1.000000\n",
       "25%           2.000000\n",
       "50%           3.000000\n",
       "75%           4.000000\n",
       "max           5.000000\n",
       "Name: review rate number, dtype: float64"
      ]
     },
     "execution_count": 248,
     "metadata": {},
     "output_type": "execute_result"
    }
   ],
   "source": [
    "df['review rate number'].describe()"
   ]
  },
  {
   "cell_type": "code",
   "execution_count": 249,
   "id": "a2e2a4dc",
   "metadata": {
    "ExecuteTime": {
     "end_time": "2022-09-11T21:19:48.404051Z",
     "start_time": "2022-09-11T21:19:48.344089Z"
    }
   },
   "outputs": [
    {
     "name": "stdout",
     "output_type": "stream",
     "text": [
      "Media 3.279105922384207\n",
      "Mediana 3.0\n"
     ]
    }
   ],
   "source": [
    "print(\"Media\",df['review rate number'].mean())\n",
    "print(\"Mediana\",df['review rate number'].median())"
   ]
  },
  {
   "cell_type": "code",
   "execution_count": 251,
   "id": "858cce2e",
   "metadata": {
    "ExecuteTime": {
     "end_time": "2022-09-11T21:21:31.431856Z",
     "start_time": "2022-09-11T21:21:31.087068Z"
    }
   },
   "outputs": [
    {
     "data": {
      "text/plain": [
       "<AxesSubplot:ylabel='Frequency'>"
      ]
     },
     "execution_count": 251,
     "metadata": {},
     "output_type": "execute_result"
    },
    {
     "data": {
      "image/png": "[encoded data removed]",
      "text/plain": [
       "<Figure size 432x288 with 1 Axes>"
      ]
     },
     "metadata": {
      "needs_background": "light"
     },
     "output_type": "display_data"
    }
   ],
   "source": [
    "df['review rate number'].plot(kind='hist')"
   ]
  },
  {
   "cell_type": "markdown",
   "id": "1b7c7880",
   "metadata": {
    "ExecuteTime": {
     "end_time": "2022-09-11T14:00:50.456853Z",
     "start_time": "2022-09-11T14:00:50.450856Z"
    }
   },
   "source": [
    "## Possiveis conclusões"
   ]
  },
  {
   "cell_type": "markdown",
   "id": "50ba4157",
   "metadata": {
    "ExecuteTime": {
     "end_time": "2022-09-11T14:15:40.163355Z",
     "start_time": "2022-09-11T14:15:40.154363Z"
    }
   },
   "source": [
    "* A média de preço por locação é de R$ \n",
    "* A média de preço mais cara é na cidade\n",
    "* Os quartos privados e casa/apto inteiros representam cerca de 97% dos imóveis anunciados, o que leva a considerar a facilidade em locar imóveis para familias inteiras, ou casais.\n",
    "* A pontuação mediana das classificações por typo de acomodação é 3,27"
   ]
  },
  {
   "cell_type": "code",
   "execution_count": null,
   "id": "f7236d59",
   "metadata": {},
   "outputs": [],
   "source": []
  }
 ],
 "metadata": {
  "kernelspec": {
   "display_name": "Python 3 (ipykernel)",
   "language": "python",
   "name": "python3"
  },
  "language_info": {
   "codemirror_mode": {
    "name": "ipython",
    "version": 3
   },
   "file_extension": ".py",
   "mimetype": "text/x-python",
   "name": "python",
   "nbconvert_exporter": "python",
   "pygments_lexer": "ipython3",
   "version": "3.9.12"
  },
  "nbTranslate": {
   "displayLangs": [
    "*"
   ],
   "hotkey": "alt-t",
   "langInMainMenu": true,
   "sourceLang": "en",
   "targetLang": "fr",
   "useGoogleTranslate": true
  },
  "toc": {
   "base_numbering": 1,
   "nav_menu": {},
   "number_sections": true,
   "sideBar": true,
   "skip_h1_title": false,
   "title_cell": "Table of Contents",
   "title_sidebar": "Contents",
   "toc_cell": false,
   "toc_position": {},
   "toc_section_display": true,
   "toc_window_display": false
  },
  "varInspector": {
   "cols": {
    "lenName": 16,
    "lenType": 16,
    "lenVar": 40
   },
   "kernels_config": {
    "python": {
     "delete_cmd_postfix": "",
     "delete_cmd_prefix": "del ",
     "library": "var_list.py",
     "varRefreshCmd": "print(var_dic_list())"
    },
    "r": {
     "delete_cmd_postfix": ") ",
     "delete_cmd_prefix": "rm(",
     "library": "var_list.r",
     "varRefreshCmd": "cat(var_dic_list()) "
    }
   },
   "types_to_exclude": [
    "module",
    "function",
    "builtin_function_or_method",
    "instance",
    "_Feature"
   ],
   "window_display": false
  }
 },
 "nbformat": 4,
 "nbformat_minor": 5
}
